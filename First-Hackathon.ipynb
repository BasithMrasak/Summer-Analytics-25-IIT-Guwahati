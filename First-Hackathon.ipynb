{
 "cells": [
  {
   "cell_type": "code",
   "execution_count": 1,
   "id": "adbb9a7b",
   "metadata": {
    "_cell_guid": "b1076dfc-b9ad-4769-8c92-a6c4dae69d19",
    "_uuid": "8f2839f25d086af736a60e9eeb907d3b93b6e0e5",
    "execution": {
     "iopub.execute_input": "2025-06-13T17:39:26.146963Z",
     "iopub.status.busy": "2025-06-13T17:39:26.146638Z",
     "iopub.status.idle": "2025-06-13T17:39:28.427437Z",
     "shell.execute_reply": "2025-06-13T17:39:28.426366Z"
    },
    "papermill": {
     "duration": 2.287012,
     "end_time": "2025-06-13T17:39:28.429266",
     "exception": false,
     "start_time": "2025-06-13T17:39:26.142254",
     "status": "completed"
    },
    "tags": []
   },
   "outputs": [
    {
     "name": "stdout",
     "output_type": "stream",
     "text": [
      "/kaggle/input/summer-analytics-mid-hackathon/hacktest.csv\n",
      "/kaggle/input/summer-analytics-mid-hackathon/hacktrain.csv\n"
     ]
    }
   ],
   "source": [
    "# This Python 3 environment comes with many helpful analytics libraries installed\n",
    "# It is defined by the kaggle/python Docker image: https://github.com/kaggle/docker-python\n",
    "# For example, here's several helpful packages to load\n",
    "\n",
    "import numpy as np # linear algebra\n",
    "import pandas as pd # data processing, CSV file I/O (e.g. pd.read_csv)\n",
    "\n",
    "# Input data files are available in the read-only \"../input/\" directory\n",
    "# For example, running this (by clicking run or pressing Shift+Enter) will list all files under the input directory\n",
    "\n",
    "import os\n",
    "for dirname, _, filenames in os.walk('/kaggle/input'):\n",
    "    for filename in filenames:\n",
    "        print(os.path.join(dirname, filename))\n",
    "\n",
    "# You can write up to 20GB to the current directory (/kaggle/working/) that gets preserved as output when you create a version using \"Save & Run All\" \n",
    "# You can also write temporary files to /kaggle/temp/, but they won't be saved outside of the current session"
   ]
  },
  {
   "cell_type": "code",
   "execution_count": 2,
   "id": "62d7590e",
   "metadata": {
    "execution": {
     "iopub.execute_input": "2025-06-13T17:39:28.437041Z",
     "iopub.status.busy": "2025-06-13T17:39:28.436516Z",
     "iopub.status.idle": "2025-06-13T17:39:28.539964Z",
     "shell.execute_reply": "2025-06-13T17:39:28.539061Z"
    },
    "papermill": {
     "duration": 0.108932,
     "end_time": "2025-06-13T17:39:28.541630",
     "exception": false,
     "start_time": "2025-06-13T17:39:28.432698",
     "status": "completed"
    },
    "tags": []
   },
   "outputs": [],
   "source": [
    "import pandas as pd\n",
    "\n",
    "# Load train and test data\n",
    "train = pd.read_csv(\"/kaggle/input/summer-analytics-mid-hackathon/hacktrain.csv\")\n",
    "test = pd.read_csv(\"/kaggle/input/summer-analytics-mid-hackathon/hacktest.csv\")\n",
    "\n",
    "# Identify NDVI columns (they end with '_N')\n",
    "data_columns = [col for col in train.columns if col.endswith('_N')]\n",
    "#data_columns"
   ]
  },
  {
   "cell_type": "code",
   "execution_count": 3,
   "id": "de34c4c6",
   "metadata": {
    "execution": {
     "iopub.execute_input": "2025-06-13T17:39:28.548489Z",
     "iopub.status.busy": "2025-06-13T17:39:28.548176Z",
     "iopub.status.idle": "2025-06-13T17:39:28.557843Z",
     "shell.execute_reply": "2025-06-13T17:39:28.557121Z"
    },
    "papermill": {
     "duration": 0.014922,
     "end_time": "2025-06-13T17:39:28.559377",
     "exception": false,
     "start_time": "2025-06-13T17:39:28.544455",
     "status": "completed"
    },
    "tags": []
   },
   "outputs": [],
   "source": [
    "import numpy as np\n",
    "\n",
    "def create_ndvi_features(df, ndvi_cols):\n",
    "    feats = pd.DataFrame()\n",
    "    feats['ID'] = df['ID']\n",
    "\n",
    "    # Basic statistics\n",
    "    feats['ndvi_mean'] = df[ndvi_cols].mean(axis=1)\n",
    "    feats['ndvi_std'] = df[ndvi_cols].std(axis=1)\n",
    "    feats['ndvi_min'] = df[ndvi_cols].min(axis=1)\n",
    "    feats['ndvi_max'] = df[ndvi_cols].max(axis=1)\n",
    "    feats['ndvi_range'] = feats['ndvi_max'] - feats['ndvi_min']\n",
    "    \n",
    "    # Quartiles and median\n",
    "    feats['ndvi_median'] = df[ndvi_cols].median(axis=1)\n",
    "    feats['ndvi_q1'] = df[ndvi_cols].quantile(0.25, axis=1)\n",
    "    feats['ndvi_q3'] = df[ndvi_cols].quantile(0.75, axis=1)\n",
    "    \n",
    "    # Coefficient of variation\n",
    "    feats['ndvi_cv'] = feats['ndvi_std'] / (feats['ndvi_mean'] + 1e-6)\n",
    "    \n",
    "    # First and last valid NDVI\n",
    "    feats['ndvi_first'] = df[ndvi_cols].apply(lambda row: row[row.first_valid_index()] if row.first_valid_index() else np.nan, axis=1)\n",
    "    feats['ndvi_last'] = df[ndvi_cols].apply(lambda row: row[row.last_valid_index()] if row.last_valid_index() else np.nan, axis=1)\n",
    "    feats['ndvi_diff'] = feats['ndvi_last'] - feats['ndvi_first']\n",
    "\n",
    "    # Slope across time (trend)\n",
    "    def slope(row):\n",
    "        x = np.arange(len(ndvi_cols))\n",
    "        y = row.values\n",
    "        mask = ~np.isnan(y)\n",
    "        if mask.sum() > 1:\n",
    "            return np.polyfit(x[mask], y[mask], 1)[0]\n",
    "        return 0\n",
    "    feats['ndvi_slope'] = df[ndvi_cols].apply(slope, axis=1)\n",
    "\n",
    "    # Missing value ratio\n",
    "    feats['ndvi_nan_ratio'] = df[ndvi_cols].isna().sum(axis=1) / len(ndvi_cols)\n",
    "\n",
    "    return feats\n"
   ]
  },
  {
   "cell_type": "code",
   "execution_count": 4,
   "id": "bee23af2",
   "metadata": {
    "execution": {
     "iopub.execute_input": "2025-06-13T17:39:28.565966Z",
     "iopub.status.busy": "2025-06-13T17:39:28.565667Z",
     "iopub.status.idle": "2025-06-13T17:39:33.696250Z",
     "shell.execute_reply": "2025-06-13T17:39:33.695260Z"
    },
    "papermill": {
     "duration": 5.135931,
     "end_time": "2025-06-13T17:39:33.698036",
     "exception": false,
     "start_time": "2025-06-13T17:39:28.562105",
     "status": "completed"
    },
    "tags": []
   },
   "outputs": [
    {
     "data": {
      "text/html": [
       "<div>\n",
       "<style scoped>\n",
       "    .dataframe tbody tr th:only-of-type {\n",
       "        vertical-align: middle;\n",
       "    }\n",
       "\n",
       "    .dataframe tbody tr th {\n",
       "        vertical-align: top;\n",
       "    }\n",
       "\n",
       "    .dataframe thead th {\n",
       "        text-align: right;\n",
       "    }\n",
       "</style>\n",
       "<table border=\"1\" class=\"dataframe\">\n",
       "  <thead>\n",
       "    <tr style=\"text-align: right;\">\n",
       "      <th></th>\n",
       "      <th>ID</th>\n",
       "      <th>ndvi_mean</th>\n",
       "      <th>ndvi_std</th>\n",
       "      <th>ndvi_min</th>\n",
       "      <th>ndvi_max</th>\n",
       "      <th>ndvi_range</th>\n",
       "      <th>ndvi_median</th>\n",
       "      <th>ndvi_q1</th>\n",
       "      <th>ndvi_q3</th>\n",
       "      <th>ndvi_cv</th>\n",
       "      <th>ndvi_first</th>\n",
       "      <th>ndvi_last</th>\n",
       "      <th>ndvi_diff</th>\n",
       "      <th>ndvi_slope</th>\n",
       "      <th>ndvi_nan_ratio</th>\n",
       "    </tr>\n",
       "  </thead>\n",
       "  <tbody>\n",
       "    <tr>\n",
       "      <th>0</th>\n",
       "      <td>1</td>\n",
       "      <td>3343.529778</td>\n",
       "      <td>2477.036970</td>\n",
       "      <td>340.949</td>\n",
       "      <td>7466.420</td>\n",
       "      <td>7125.471</td>\n",
       "      <td>3097.110</td>\n",
       "      <td>840.498</td>\n",
       "      <td>5567.45500</td>\n",
       "      <td>0.740845</td>\n",
       "      <td>7466.4200</td>\n",
       "      <td>6639.760</td>\n",
       "      <td>-826.6600</td>\n",
       "      <td>-58.403572</td>\n",
       "      <td>0.0</td>\n",
       "    </tr>\n",
       "    <tr>\n",
       "      <th>1</th>\n",
       "      <td>2</td>\n",
       "      <td>3750.664704</td>\n",
       "      <td>2514.860621</td>\n",
       "      <td>535.296</td>\n",
       "      <td>7425.840</td>\n",
       "      <td>6890.544</td>\n",
       "      <td>3298.110</td>\n",
       "      <td>1152.290</td>\n",
       "      <td>6061.24500</td>\n",
       "      <td>0.670511</td>\n",
       "      <td>7235.2600</td>\n",
       "      <td>842.101</td>\n",
       "      <td>-6393.1590</td>\n",
       "      <td>-68.965761</td>\n",
       "      <td>0.0</td>\n",
       "    </tr>\n",
       "    <tr>\n",
       "      <th>2</th>\n",
       "      <td>3</td>\n",
       "      <td>3790.384667</td>\n",
       "      <td>2807.079716</td>\n",
       "      <td>522.798</td>\n",
       "      <td>7644.430</td>\n",
       "      <td>7121.632</td>\n",
       "      <td>2206.100</td>\n",
       "      <td>1107.250</td>\n",
       "      <td>6949.45500</td>\n",
       "      <td>0.740579</td>\n",
       "      <td>7425.0800</td>\n",
       "      <td>831.441</td>\n",
       "      <td>-6593.6390</td>\n",
       "      <td>-73.940891</td>\n",
       "      <td>0.0</td>\n",
       "    </tr>\n",
       "    <tr>\n",
       "      <th>3</th>\n",
       "      <td>4</td>\n",
       "      <td>3242.310704</td>\n",
       "      <td>2627.535640</td>\n",
       "      <td>465.979</td>\n",
       "      <td>7128.420</td>\n",
       "      <td>6662.441</td>\n",
       "      <td>1731.620</td>\n",
       "      <td>967.842</td>\n",
       "      <td>6094.60000</td>\n",
       "      <td>0.810390</td>\n",
       "      <td>7119.1200</td>\n",
       "      <td>6883.610</td>\n",
       "      <td>-235.5100</td>\n",
       "      <td>-49.364616</td>\n",
       "      <td>0.0</td>\n",
       "    </tr>\n",
       "    <tr>\n",
       "      <th>4</th>\n",
       "      <td>5</td>\n",
       "      <td>4468.600704</td>\n",
       "      <td>2980.248232</td>\n",
       "      <td>550.508</td>\n",
       "      <td>8130.260</td>\n",
       "      <td>7579.752</td>\n",
       "      <td>4345.240</td>\n",
       "      <td>1448.030</td>\n",
       "      <td>7685.10000</td>\n",
       "      <td>0.666931</td>\n",
       "      <td>7519.5500</td>\n",
       "      <td>1336.920</td>\n",
       "      <td>-6182.6300</td>\n",
       "      <td>-78.656631</td>\n",
       "      <td>0.0</td>\n",
       "    </tr>\n",
       "    <tr>\n",
       "      <th>...</th>\n",
       "      <td>...</td>\n",
       "      <td>...</td>\n",
       "      <td>...</td>\n",
       "      <td>...</td>\n",
       "      <td>...</td>\n",
       "      <td>...</td>\n",
       "      <td>...</td>\n",
       "      <td>...</td>\n",
       "      <td>...</td>\n",
       "      <td>...</td>\n",
       "      <td>...</td>\n",
       "      <td>...</td>\n",
       "      <td>...</td>\n",
       "      <td>...</td>\n",
       "      <td>...</td>\n",
       "    </tr>\n",
       "    <tr>\n",
       "      <th>2840</th>\n",
       "      <td>2841</td>\n",
       "      <td>-1997.699207</td>\n",
       "      <td>1786.044716</td>\n",
       "      <td>-5611.400</td>\n",
       "      <td>491.678</td>\n",
       "      <td>6103.078</td>\n",
       "      <td>-2257.890</td>\n",
       "      <td>-2684.515</td>\n",
       "      <td>-95.75030</td>\n",
       "      <td>-0.894051</td>\n",
       "      <td>-1673.7400</td>\n",
       "      <td>356.233</td>\n",
       "      <td>2029.9730</td>\n",
       "      <td>63.221354</td>\n",
       "      <td>0.0</td>\n",
       "    </tr>\n",
       "    <tr>\n",
       "      <th>2841</th>\n",
       "      <td>2842</td>\n",
       "      <td>-2318.400781</td>\n",
       "      <td>1984.884216</td>\n",
       "      <td>-5648.660</td>\n",
       "      <td>556.093</td>\n",
       "      <td>6204.753</td>\n",
       "      <td>-2168.190</td>\n",
       "      <td>-4031.820</td>\n",
       "      <td>-254.77515</td>\n",
       "      <td>-0.856144</td>\n",
       "      <td>-96.8233</td>\n",
       "      <td>-4316.580</td>\n",
       "      <td>-4219.7567</td>\n",
       "      <td>8.944875</td>\n",
       "      <td>0.0</td>\n",
       "    </tr>\n",
       "    <tr>\n",
       "      <th>2842</th>\n",
       "      <td>2843</td>\n",
       "      <td>-1640.061593</td>\n",
       "      <td>1724.990648</td>\n",
       "      <td>-5010.320</td>\n",
       "      <td>987.461</td>\n",
       "      <td>5997.781</td>\n",
       "      <td>-1713.400</td>\n",
       "      <td>-2995.260</td>\n",
       "      <td>49.47800</td>\n",
       "      <td>-1.051784</td>\n",
       "      <td>-2364.6000</td>\n",
       "      <td>-1170.750</td>\n",
       "      <td>1193.8500</td>\n",
       "      <td>41.066144</td>\n",
       "      <td>0.0</td>\n",
       "    </tr>\n",
       "    <tr>\n",
       "      <th>2843</th>\n",
       "      <td>2844</td>\n",
       "      <td>-1170.447741</td>\n",
       "      <td>1782.525273</td>\n",
       "      <td>-5574.510</td>\n",
       "      <td>973.953</td>\n",
       "      <td>6548.463</td>\n",
       "      <td>-317.092</td>\n",
       "      <td>-2931.085</td>\n",
       "      <td>363.84150</td>\n",
       "      <td>-1.522943</td>\n",
       "      <td>-3004.6300</td>\n",
       "      <td>460.419</td>\n",
       "      <td>3465.0490</td>\n",
       "      <td>19.546456</td>\n",
       "      <td>0.0</td>\n",
       "    </tr>\n",
       "    <tr>\n",
       "      <th>2844</th>\n",
       "      <td>2845</td>\n",
       "      <td>-1433.671386</td>\n",
       "      <td>2030.680393</td>\n",
       "      <td>-6215.730</td>\n",
       "      <td>516.427</td>\n",
       "      <td>6732.157</td>\n",
       "      <td>-791.937</td>\n",
       "      <td>-2952.145</td>\n",
       "      <td>289.27650</td>\n",
       "      <td>-1.416420</td>\n",
       "      <td>-2975.1000</td>\n",
       "      <td>417.124</td>\n",
       "      <td>3392.2240</td>\n",
       "      <td>24.290743</td>\n",
       "      <td>0.0</td>\n",
       "    </tr>\n",
       "  </tbody>\n",
       "</table>\n",
       "<p>2845 rows × 15 columns</p>\n",
       "</div>"
      ],
      "text/plain": [
       "        ID    ndvi_mean     ndvi_std  ndvi_min  ndvi_max  ndvi_range  \\\n",
       "0        1  3343.529778  2477.036970   340.949  7466.420    7125.471   \n",
       "1        2  3750.664704  2514.860621   535.296  7425.840    6890.544   \n",
       "2        3  3790.384667  2807.079716   522.798  7644.430    7121.632   \n",
       "3        4  3242.310704  2627.535640   465.979  7128.420    6662.441   \n",
       "4        5  4468.600704  2980.248232   550.508  8130.260    7579.752   \n",
       "...    ...          ...          ...       ...       ...         ...   \n",
       "2840  2841 -1997.699207  1786.044716 -5611.400   491.678    6103.078   \n",
       "2841  2842 -2318.400781  1984.884216 -5648.660   556.093    6204.753   \n",
       "2842  2843 -1640.061593  1724.990648 -5010.320   987.461    5997.781   \n",
       "2843  2844 -1170.447741  1782.525273 -5574.510   973.953    6548.463   \n",
       "2844  2845 -1433.671386  2030.680393 -6215.730   516.427    6732.157   \n",
       "\n",
       "      ndvi_median   ndvi_q1     ndvi_q3   ndvi_cv  ndvi_first  ndvi_last  \\\n",
       "0        3097.110   840.498  5567.45500  0.740845   7466.4200   6639.760   \n",
       "1        3298.110  1152.290  6061.24500  0.670511   7235.2600    842.101   \n",
       "2        2206.100  1107.250  6949.45500  0.740579   7425.0800    831.441   \n",
       "3        1731.620   967.842  6094.60000  0.810390   7119.1200   6883.610   \n",
       "4        4345.240  1448.030  7685.10000  0.666931   7519.5500   1336.920   \n",
       "...           ...       ...         ...       ...         ...        ...   \n",
       "2840    -2257.890 -2684.515   -95.75030 -0.894051  -1673.7400    356.233   \n",
       "2841    -2168.190 -4031.820  -254.77515 -0.856144    -96.8233  -4316.580   \n",
       "2842    -1713.400 -2995.260    49.47800 -1.051784  -2364.6000  -1170.750   \n",
       "2843     -317.092 -2931.085   363.84150 -1.522943  -3004.6300    460.419   \n",
       "2844     -791.937 -2952.145   289.27650 -1.416420  -2975.1000    417.124   \n",
       "\n",
       "      ndvi_diff  ndvi_slope  ndvi_nan_ratio  \n",
       "0     -826.6600  -58.403572             0.0  \n",
       "1    -6393.1590  -68.965761             0.0  \n",
       "2    -6593.6390  -73.940891             0.0  \n",
       "3     -235.5100  -49.364616             0.0  \n",
       "4    -6182.6300  -78.656631             0.0  \n",
       "...         ...         ...             ...  \n",
       "2840  2029.9730   63.221354             0.0  \n",
       "2841 -4219.7567    8.944875             0.0  \n",
       "2842  1193.8500   41.066144             0.0  \n",
       "2843  3465.0490   19.546456             0.0  \n",
       "2844  3392.2240   24.290743             0.0  \n",
       "\n",
       "[2845 rows x 15 columns]"
      ]
     },
     "execution_count": 4,
     "metadata": {},
     "output_type": "execute_result"
    }
   ],
   "source": [
    "train_feats = create_ndvi_features(train, data_columns)\n",
    "test_feats = create_ndvi_features(test, data_columns)\n",
    "\n",
    "train_feats\n",
    "test_feats"
   ]
  },
  {
   "cell_type": "code",
   "execution_count": 5,
   "id": "2775dc96",
   "metadata": {
    "execution": {
     "iopub.execute_input": "2025-06-13T17:39:33.706293Z",
     "iopub.status.busy": "2025-06-13T17:39:33.705965Z",
     "iopub.status.idle": "2025-06-13T17:39:33.715552Z",
     "shell.execute_reply": "2025-06-13T17:39:33.714822Z"
    },
    "papermill": {
     "duration": 0.015126,
     "end_time": "2025-06-13T17:39:33.716984",
     "exception": false,
     "start_time": "2025-06-13T17:39:33.701858",
     "status": "completed"
    },
    "tags": []
   },
   "outputs": [
    {
     "data": {
      "text/plain": [
       "ID                0\n",
       "ndvi_mean         0\n",
       "ndvi_std          0\n",
       "ndvi_min          0\n",
       "ndvi_max          0\n",
       "ndvi_range        0\n",
       "ndvi_median       0\n",
       "ndvi_q1           0\n",
       "ndvi_q3           0\n",
       "ndvi_cv           0\n",
       "ndvi_first        0\n",
       "ndvi_last         0\n",
       "ndvi_diff         0\n",
       "ndvi_slope        0\n",
       "ndvi_nan_ratio    0\n",
       "dtype: int64"
      ]
     },
     "execution_count": 5,
     "metadata": {},
     "output_type": "execute_result"
    }
   ],
   "source": [
    "train_feats.isnull().sum()"
   ]
  },
  {
   "cell_type": "code",
   "execution_count": 6,
   "id": "d08a5e7f",
   "metadata": {
    "execution": {
     "iopub.execute_input": "2025-06-13T17:39:33.724760Z",
     "iopub.status.busy": "2025-06-13T17:39:33.724459Z",
     "iopub.status.idle": "2025-06-13T17:39:35.372041Z",
     "shell.execute_reply": "2025-06-13T17:39:35.371183Z"
    },
    "papermill": {
     "duration": 1.653744,
     "end_time": "2025-06-13T17:39:35.374091",
     "exception": false,
     "start_time": "2025-06-13T17:39:33.720347",
     "status": "completed"
    },
    "tags": []
   },
   "outputs": [],
   "source": [
    "from sklearn.preprocessing import StandardScaler\n",
    "\n",
    "X_train_raw = train_feats.drop(columns=['ID'])\n",
    "X_test_raw = test_feats.drop(columns=['ID'])\n",
    "\n",
    "scaler = StandardScaler()\n",
    "X_train_scaled = scaler.fit_transform(X_train_raw)\n",
    "X_test_scaled = scaler.transform(X_test_raw)\n"
   ]
  },
  {
   "cell_type": "code",
   "execution_count": 7,
   "id": "4b1bc56c",
   "metadata": {
    "execution": {
     "iopub.execute_input": "2025-06-13T17:39:35.382216Z",
     "iopub.status.busy": "2025-06-13T17:39:35.381687Z",
     "iopub.status.idle": "2025-06-13T17:39:35.554074Z",
     "shell.execute_reply": "2025-06-13T17:39:35.553062Z"
    },
    "papermill": {
     "duration": 0.17837,
     "end_time": "2025-06-13T17:39:35.555830",
     "exception": false,
     "start_time": "2025-06-13T17:39:35.377460",
     "status": "completed"
    },
    "tags": []
   },
   "outputs": [],
   "source": [
    "from sklearn.model_selection import train_test_split\n",
    "from sklearn.preprocessing import LabelEncoder\n",
    "\n",
    "# Encode the target class\n",
    "le = LabelEncoder()\n",
    "y = le.fit_transform(train['class'])\n",
    "\n",
    "# Train-validation split (80% train, 20% val)\n",
    "X_train_final, X_val, y_train_final, y_val = train_test_split(\n",
    "    X_train_scaled, y, test_size=0.2, random_state=42, stratify=y\n",
    ")\n"
   ]
  },
  {
   "cell_type": "code",
   "execution_count": 8,
   "id": "f98930d6",
   "metadata": {
    "execution": {
     "iopub.execute_input": "2025-06-13T17:39:35.563321Z",
     "iopub.status.busy": "2025-06-13T17:39:35.562938Z",
     "iopub.status.idle": "2025-06-13T17:39:35.567951Z",
     "shell.execute_reply": "2025-06-13T17:39:35.566903Z"
    },
    "papermill": {
     "duration": 0.010679,
     "end_time": "2025-06-13T17:39:35.569710",
     "exception": false,
     "start_time": "2025-06-13T17:39:35.559031",
     "status": "completed"
    },
    "tags": []
   },
   "outputs": [],
   "source": [
    "from sklearn.metrics import accuracy_score\n",
    "\n"
   ]
  },
  {
   "cell_type": "code",
   "execution_count": 9,
   "id": "892abdb1",
   "metadata": {
    "execution": {
     "iopub.execute_input": "2025-06-13T17:39:35.577335Z",
     "iopub.status.busy": "2025-06-13T17:39:35.577010Z",
     "iopub.status.idle": "2025-06-13T17:39:35.994339Z",
     "shell.execute_reply": "2025-06-13T17:39:35.993181Z"
    },
    "papermill": {
     "duration": 0.425795,
     "end_time": "2025-06-13T17:39:35.998802",
     "exception": false,
     "start_time": "2025-06-13T17:39:35.573007",
     "status": "completed"
    },
    "tags": []
   },
   "outputs": [
    {
     "name": "stdout",
     "output_type": "stream",
     "text": [
      "Training Accuracy: 0.87171875\n",
      "Validation Accuracy: 0.86625\n"
     ]
    }
   ],
   "source": [
    "from sklearn.linear_model import LogisticRegression\n",
    "from sklearn.metrics import accuracy_score\n",
    "\n",
    "# Initialize logistic regression model\n",
    "model = LogisticRegression(\n",
    "    multi_class='multinomial',\n",
    "    solver='lbfgs',\n",
    "    C=0.1,\n",
    "    max_iter=1000,\n",
    "    random_state=42\n",
    ")\n",
    "\n",
    "# Train the model\n",
    "model.fit(X_train_final, y_train_final)\n",
    "\n",
    "# Predict on training set\n",
    "y_train_pred = model.predict(X_train_final)\n",
    "\n",
    "# Compute training accuracy\n",
    "train_accuracy = accuracy_score(y_train_final, y_train_pred)\n",
    "\n",
    "print(\"Training Accuracy:\", train_accuracy)\n",
    "\n",
    "# Evaluate on validation set\n",
    "y_val_pred = model.predict(X_val)\n",
    "val_accuracy = accuracy_score(y_val, y_val_pred)\n",
    "\n",
    "print(\"Validation Accuracy:\", val_accuracy)\n"
   ]
  },
  {
   "cell_type": "code",
   "execution_count": 10,
   "id": "89dccce0",
   "metadata": {
    "execution": {
     "iopub.execute_input": "2025-06-13T17:39:36.016287Z",
     "iopub.status.busy": "2025-06-13T17:39:36.015558Z",
     "iopub.status.idle": "2025-06-13T17:39:36.046748Z",
     "shell.execute_reply": "2025-06-13T17:39:36.045838Z"
    },
    "papermill": {
     "duration": 0.039628,
     "end_time": "2025-06-13T17:39:36.048945",
     "exception": false,
     "start_time": "2025-06-13T17:39:36.009317",
     "status": "completed"
    },
    "tags": []
   },
   "outputs": [
    {
     "name": "stdout",
     "output_type": "stream",
     "text": [
      "        ID  class\n",
      "2840  2841  water\n",
      "2841  2842  water\n",
      "2842  2843  water\n",
      "2843  2844  water\n",
      "2844  2845  water\n"
     ]
    }
   ],
   "source": [
    "# Predict class indices (e.g., 0, 1, 2, ...)\n",
    "y_test_pred = model.predict(X_test_scaled)\n",
    "\n",
    "# Decode class indices back to original labels (e.g., 'forest', 'water', etc.)\n",
    "y_test_labels = le.inverse_transform(y_test_pred)\n",
    "\n",
    "# Use test['ID'] if it exists, otherwise fallback to index\n",
    "ID_col = test['ID'] if 'ID' in test.columns else test.index\n",
    "\n",
    "# Create submission DataFrame\n",
    "submission = pd.DataFrame({\n",
    "    'ID': ID_col,\n",
    "    'class': y_test_labels\n",
    "})\n",
    "\n",
    "# Save as submission file\n",
    "submission.to_csv('submission.csv', index=False)\n",
    "\n",
    "# Optional: View first few rows\n",
    "print(submission.tail())\n"
   ]
  }
 ],
 "metadata": {
  "kaggle": {
   "accelerator": "none",
   "dataSources": [
    {
     "databundleVersionId": 12585144,
     "sourceId": 104491,
     "sourceType": "competition"
    }
   ],
   "dockerImageVersionId": 31040,
   "isGpuEnabled": false,
   "isInternetEnabled": false,
   "language": "python",
   "sourceType": "notebook"
  },
  "kernelspec": {
   "display_name": "Python 3",
   "language": "python",
   "name": "python3"
  },
  "language_info": {
   "codemirror_mode": {
    "name": "ipython",
    "version": 3
   },
   "file_extension": ".py",
   "mimetype": "text/x-python",
   "name": "python",
   "nbconvert_exporter": "python",
   "pygments_lexer": "ipython3",
   "version": "3.11.11"
  },
  "papermill": {
   "default_parameters": {},
   "duration": 15.786469,
   "end_time": "2025-06-13T17:39:36.775437",
   "environment_variables": {},
   "exception": null,
   "input_path": "__notebook__.ipynb",
   "output_path": "__notebook__.ipynb",
   "parameters": {},
   "start_time": "2025-06-13T17:39:20.988968",
   "version": "2.6.0"
  }
 },
 "nbformat": 4,
 "nbformat_minor": 5
}
